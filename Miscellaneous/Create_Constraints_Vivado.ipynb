{
 "cells": [
  {
   "cell_type": "code",
   "execution_count": null,
   "id": "7d40cc72",
   "metadata": {},
   "outputs": [],
   "source": [
    "# Used to generate constraints for the SIRO module in Vivado\n",
    "\n",
    "def generate_vivado_constraints_siro(num_siros):\n",
    "    bel_map = ['D6LUT', 'C6LUT', 'B6LUT', 'A6LUT']\n",
    "    slice_locations = []\n",
    "\n",
    "    for y in range(50):\n",
    "        for x in range(42):\n",
    "            slice_locations.append(f'SLICE_X{x}Y{y}')\n",
    "    constraints = []\n",
    "\n",
    "    for i in range(num_siros):\n",
    "        bel = bel_map[i % 4]\n",
    "        slice_loc = slice_locations[i // 4]\n",
    "        constraints.append(f\"set_property BEL {bel} [get_cells {{RO_SIRO_UUT/GENERATE_SIRO[{i}].UUT_SIRO/LUT2_inst}}]\")\n",
    "        constraints.append(f\"set_property LOC {slice_loc} [get_cells {{RO_SIRO_UUT/GENERATE_SIRO[{i}].UUT_SIRO/LUT2_inst}}]\")\n",
    "\n",
    "    # Write the constraints to a text file\n",
    "    with open(f'vivado_constraints_'+str(num_siros)+'SIRO.txt', 'w') as file:\n",
    "        for constraint in constraints:\n",
    "            file.write(constraint + '\\n')"
   ]
  },
  {
   "cell_type": "code",
   "execution_count": null,
   "id": "2bf88030",
   "metadata": {},
   "outputs": [],
   "source": [
    "# Used to generate constraints for RO\n",
    "\n",
    "def generate_vivado_constraints_ro(num_inv):\n",
    "    bel_map = ['D6LUT', 'C6LUT', 'B6LUT', 'A6LUT']\n",
    "    slice_locations = []\n",
    "\n",
    "    for y in range(50, 100):\n",
    "        for x in range(16):\n",
    "            slice_locations.append(f'SLICE_X{x}Y{y}')\n",
    "\n",
    "    constraints = []\n",
    "\n",
    "    for i in range(1, num_inv):\n",
    "        bel = bel_map[i % 4]\n",
    "        slice_loc = slice_locations[i // 4]\n",
    "        constraints.append(f\"set_property BEL {bel} [get_cells {{RO_SIRO_UUT/UUT_RO/Inverseur[{i}].InverterN}}]\")\n",
    "        constraints.append(f\"set_property LOC {slice_loc} [get_cells {{RO_SIRO_UUT/UUT_RO/Inverseur[{i}].InverterN}}]\")\n",
    "\n",
    "    constraints.append(f\"set_property BEL D6LUT [get_cells {{RO_SIRO_UUT/UUT_RO/Inverter0}}]\")\n",
    "    constraints.append(f\"set_property LOC X15Y99 [get_cells {{RO_SIRO_UUT/UUT_RO/Inverter0}}]\")\n",
    "\n",
    "    constraints.append(f\"set_property BEL C6LUT [get_cells {{RO_SIRO_UUT/UUT_RO/Nand_out_inferred_i_1}}]\")\n",
    "    constraints.append(f\"set_property LOC X15Y99 [get_cells {{RO_SIRO_UUT/UUT_RO/Nand_out_inferred_i_1}}]\")\n",
    "\n",
    "    # Write the constraints to a text file\n",
    "    with open(f'vivado_constraints_RO_'+str(num_inv)+'inv.txt', 'w') as file:\n",
    "        for constraint in constraints:\n",
    "            file.write(constraint + '\\n')"
   ]
  },
  {
   "cell_type": "code",
   "execution_count": 32,
   "id": "6084ad33",
   "metadata": {},
   "outputs": [],
   "source": [
    "generate_vivado_constraints_siro(1)\n",
    "generate_vivado_constraints_siro(2500)\n",
    "generate_vivado_constraints_siro(5000)\n",
    "generate_vivado_constraints_siro(7000)"
   ]
  },
  {
   "cell_type": "code",
   "execution_count": 33,
   "id": "66c2c832",
   "metadata": {},
   "outputs": [],
   "source": [
    "generate_vivado_constraints_ro(255)"
   ]
  }
 ],
 "metadata": {
  "kernelspec": {
   "display_name": "Python 3",
   "language": "python",
   "name": "python3"
  },
  "language_info": {
   "codemirror_mode": {
    "name": "ipython",
    "version": 3
   },
   "file_extension": ".py",
   "mimetype": "text/x-python",
   "name": "python",
   "nbconvert_exporter": "python",
   "pygments_lexer": "ipython3",
   "version": "3.11.9"
  }
 },
 "nbformat": 4,
 "nbformat_minor": 5
}
